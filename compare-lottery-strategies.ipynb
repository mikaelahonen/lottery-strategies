{
 "cells": [
  {
   "cell_type": "markdown",
   "metadata": {},
   "source": [
    "## Import libraries"
   ]
  },
  {
   "cell_type": "code",
   "execution_count": 12,
   "metadata": {},
   "outputs": [],
   "source": [
    "import pandas as pd\n",
    "\n",
    "#Binomial distribution calculations\n",
    "from scipy.stats import binom\n",
    "#Calculate combinations\n",
    "from scipy.special import comb"
   ]
  },
  {
   "cell_type": "markdown",
   "metadata": {},
   "source": [
    "## Initialize variables"
   ]
  },
  {
   "cell_type": "code",
   "execution_count": 13,
   "metadata": {},
   "outputs": [
    {
     "name": "stdout",
     "output_type": "stream",
     "text": [
      "Number of rounds: 2600\n",
      "Possible combinations to select 7 out of 40: 18643560\n",
      "Probability to win with one lottery row: 5.363782453565735e-08\n"
     ]
    }
   ],
   "source": [
    "#Set number of decimals to show in data frame\n",
    "pd.set_option('display.float_format', lambda x: '%.15f' % x)\n",
    "\n",
    "#Time variables\n",
    "years = 50\n",
    "weeks = 52\n",
    "rounds = years * weeks\n",
    "print(\"Number of rounds: {}\".format(rounds))\n",
    "\n",
    "#Lotter variables\n",
    "n_all = 40\n",
    "n_pick = 7\n",
    "\n",
    "#Calculate possible combinations for a lotter ticket\n",
    "n_comb = comb(n_all, n_pick, exact=True)\n",
    "print(\"Possible combinations to select {} out of {}: {}\".format(n_pick, n_all, n_comb))\n",
    "\n",
    "#Probability to win with one lottery row\n",
    "prob_single = 1/n_comb\n",
    "print(\"Probability to win with one lottery row: {}\".format(prob_single))"
   ]
  },
  {
   "cell_type": "markdown",
   "metadata": {},
   "source": [
    "## Compare strategies\n",
    "Results validated with this [online calculator](https://stattrek.com/online-calculator/binomial.aspx)."
   ]
  },
  {
   "cell_type": "code",
   "execution_count": 14,
   "metadata": {},
   "outputs": [],
   "source": [
    "results = []"
   ]
  },
  {
   "cell_type": "markdown",
   "metadata": {},
   "source": [
    "### Weekly player, exactly one win "
   ]
  },
  {
   "cell_type": "code",
   "execution_count": 15,
   "metadata": {},
   "outputs": [],
   "source": [
    "#Exactly one win\n",
    "prob_exact = binom.pmf(k=1, n=rounds, p=prob_single)\n",
    "results.append({\n",
    "    \"strategy\": \"weekly_one\",\n",
    "    \"prob\": prob_exact,\n",
    "    \"desc\": \"Weekly player, exactly one win.\"\n",
    "})"
   ]
  },
  {
   "cell_type": "markdown",
   "metadata": {},
   "source": [
    "### Weekly player, at least one win"
   ]
  },
  {
   "cell_type": "code",
   "execution_count": 16,
   "metadata": {},
   "outputs": [],
   "source": [
    "#At least one win\n",
    "prob_cum = 1-binom.cdf(k=1, n=rounds, p=prob_single, loc=1)\n",
    "results.append({\n",
    "    \"strategy\": \"weekly_multiple\",\n",
    "    \"prob\": prob_cum,\n",
    "    \"desc\": \"Weekly player, at least one win.\"\n",
    "})"
   ]
  },
  {
   "cell_type": "markdown",
   "metadata": {},
   "source": [
    "### One time player (can only win once)"
   ]
  },
  {
   "cell_type": "code",
   "execution_count": 17,
   "metadata": {},
   "outputs": [],
   "source": [
    "#Exactly one win (one time player can't win multiple times)\n",
    "prob_onetime = rounds / n_comb\n",
    "results.append({\n",
    "    \"strategy\": \"play_once\",\n",
    "    \"prob\": prob_onetime,\n",
    "    \"desc\": \"One time player.\"\n",
    "})"
   ]
  },
  {
   "cell_type": "markdown",
   "metadata": {},
   "source": [
    "## Results for the best lottery strategy"
   ]
  },
  {
   "cell_type": "markdown",
   "metadata": {},
   "source": [
    "### Show the results"
   ]
  },
  {
   "cell_type": "code",
   "execution_count": 24,
   "metadata": {},
   "outputs": [
    {
     "data": {
      "text/html": [
       "<div>\n",
       "<style scoped>\n",
       "    .dataframe tbody tr th:only-of-type {\n",
       "        vertical-align: middle;\n",
       "    }\n",
       "\n",
       "    .dataframe tbody tr th {\n",
       "        vertical-align: top;\n",
       "    }\n",
       "\n",
       "    .dataframe thead th {\n",
       "        text-align: right;\n",
       "    }\n",
       "</style>\n",
       "<table border=\"1\" class=\"dataframe\">\n",
       "  <thead>\n",
       "    <tr style=\"text-align: right;\">\n",
       "      <th></th>\n",
       "      <th>desc</th>\n",
       "      <th>prob</th>\n",
       "      <th>strategy</th>\n",
       "      <th>per_half_population</th>\n",
       "      <th>per_half_finland</th>\n",
       "      <th>per_100k</th>\n",
       "      <th>diff_to_best</th>\n",
       "    </tr>\n",
       "  </thead>\n",
       "  <tbody>\n",
       "    <tr>\n",
       "      <th>2</th>\n",
       "      <td>One time player.</td>\n",
       "      <td>0.000139458343793</td>\n",
       "      <td>play_once</td>\n",
       "      <td>488104</td>\n",
       "      <td>383.510445429950039</td>\n",
       "      <td>13.945834379270911</td>\n",
       "      <td>1.000000000000000</td>\n",
       "    </tr>\n",
       "    <tr>\n",
       "      <th>1</th>\n",
       "      <td>Weekly player, at least one win.</td>\n",
       "      <td>0.000139448623617</td>\n",
       "      <td>weekly_multiple</td>\n",
       "      <td>488070</td>\n",
       "      <td>383.483714945620477</td>\n",
       "      <td>13.944862361658927</td>\n",
       "      <td>0.999930300505115</td>\n",
       "    </tr>\n",
       "    <tr>\n",
       "      <th>0</th>\n",
       "      <td>Weekly player, exactly one win.</td>\n",
       "      <td>0.000139438903998</td>\n",
       "      <td>weekly_one</td>\n",
       "      <td>488036</td>\n",
       "      <td>383.456985993753847</td>\n",
       "      <td>13.943890399772867</td>\n",
       "      <td>0.999860605006113</td>\n",
       "    </tr>\n",
       "  </tbody>\n",
       "</table>\n",
       "</div>"
      ],
      "text/plain": [
       "                               desc              prob         strategy  \\\n",
       "2                  One time player. 0.000139458343793        play_once   \n",
       "1  Weekly player, at least one win. 0.000139448623617  weekly_multiple   \n",
       "0   Weekly player, exactly one win. 0.000139438903998       weekly_one   \n",
       "\n",
       "   per_half_population    per_half_finland           per_100k  \\\n",
       "2               488104 383.510445429950039 13.945834379270911   \n",
       "1               488070 383.483714945620477 13.944862361658927   \n",
       "0               488036 383.456985993753847 13.943890399772867   \n",
       "\n",
       "       diff_to_best  \n",
       "2 1.000000000000000  \n",
       "1 0.999930300505115  \n",
       "0 0.999860605006113  "
      ]
     },
     "metadata": {},
     "output_type": "display_data"
    }
   ],
   "source": [
    "#Data frame from results dictionary\n",
    "df_results = pd.DataFrame(results)\n",
    "\n",
    "#How many winners half of the human population would choose this strategy\n",
    "df_results[\"per_half_population\"] = (df_results['prob'] * 7*10**9/2).astype(int)\n",
    "\n",
    "#How many winners per Finnish population\n",
    "df_results[\"per_half_finland\"] = df_results['prob'] * 5500000/2\n",
    "\n",
    "#How many winners per 100k people\n",
    "df_results[\"per_100k\"] = df_results['prob'] * 100000\n",
    "\n",
    "#Percentage from best strategy\n",
    "df_results[\"diff_to_best\"] = df_results['prob'] / df_results['prob'].max()\n",
    "\n",
    "#Sort by probability\n",
    "df_results.sort_values(by=\"prob\", ascending=False, inplace=True)\n",
    "\n",
    "#Display the results\n",
    "display(df_results)"
   ]
  },
  {
   "cell_type": "code",
   "execution_count": 8,
   "metadata": {},
   "outputs": [],
   "source": [
    "#Reset the options\n",
    "pd.set_option('display.float_format', None)"
   ]
  },
  {
   "cell_type": "markdown",
   "metadata": {},
   "source": [
    "## Making winning more probable - Select one number out of 10 000 possibilities"
   ]
  },
  {
   "cell_type": "code",
   "execution_count": 27,
   "metadata": {},
   "outputs": [],
   "source": [
    "numbers = 10000"
   ]
  },
  {
   "cell_type": "markdown",
   "metadata": {},
   "source": [
    "### Weekly player, at least one win"
   ]
  },
  {
   "cell_type": "code",
   "execution_count": 28,
   "metadata": {},
   "outputs": [
    {
     "name": "stdout",
     "output_type": "stream",
     "text": [
      "0.22895843847015962\n"
     ]
    }
   ],
   "source": [
    "#At least one win\n",
    "prob_cum_10k = 1-binom.cdf(k=1, n=rounds, p=1/numbers, loc=1)\n",
    "print(prob_cum_10k)"
   ]
  },
  {
   "cell_type": "markdown",
   "metadata": {},
   "source": [
    "### One time player (can only win once)"
   ]
  },
  {
   "cell_type": "code",
   "execution_count": 29,
   "metadata": {},
   "outputs": [
    {
     "name": "stdout",
     "output_type": "stream",
     "text": [
      "0.26\n"
     ]
    }
   ],
   "source": [
    "#Exactly one win (one time player can't win multiple times)\n",
    "prob_onetime_10k = rounds / numbers\n",
    "print(prob_onetime_10k)"
   ]
  }
 ],
 "metadata": {
  "kernelspec": {
   "display_name": "Python 3",
   "language": "python",
   "name": "python3"
  },
  "language_info": {
   "codemirror_mode": {
    "name": "ipython",
    "version": 3
   },
   "file_extension": ".py",
   "mimetype": "text/x-python",
   "name": "python",
   "nbconvert_exporter": "python",
   "pygments_lexer": "ipython3",
   "version": "3.6.6+"
  }
 },
 "nbformat": 4,
 "nbformat_minor": 2
}
